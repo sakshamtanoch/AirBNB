{
  "nbformat": 4,
  "nbformat_minor": 0,
  "metadata": {
    "colab": {
      "private_outputs": true,
      "provenance": []
    },
    "kernelspec": {
      "name": "python3",
      "display_name": "Python 3"
    },
    "language_info": {
      "name": "python"
    }
  },
  "cells": [
    {
      "cell_type": "code",
      "execution_count": null,
      "metadata": {
        "id": "jS0cKgGdNfid"
      },
      "outputs": [],
      "source": [
        "import requests \n",
        "import pandas as pd \n",
        "from bs4 import BeautifulSoup\n",
        "import re"
      ]
    },
    {
      "cell_type": "code",
      "source": [
        "url = 'https://www.airbnb.co.in/s/Manali--Himachal-Pradesh/homes?adults=2&place_id=ChIJP9A_FgiHBDkRzXZQvg6oKYE&checkin=2023-01-24&checkout=2023-01-25&tab_id=home_tab&refinement_paths%5B%5D=%2Fhomes&query=Manali%2C%20Himachal%20Pradesh&flexible_trip_lengths%5B%5D=one_week&price_filter_input_type=0&price_filter_num_nights=7&date_picker_type=calendar&source=structured_search_input_header&search_type=filter_change'\n",
        "page = requests.get(url)\n",
        "soup = BeautifulSoup(page.text, 'lxml')\n",
        "page"
      ],
      "metadata": {
        "id": "ZysfR8UnSDNJ"
      },
      "execution_count": null,
      "outputs": []
    },
    {
      "cell_type": "code",
      "source": [
        "# getting the next page\n",
        "\n",
        "a_tag = soup.find_all('a')\n",
        "a_tag"
      ],
      "metadata": {
        "id": "F1-EvXLUSSbn"
      },
      "execution_count": null,
      "outputs": []
    },
    {
      "cell_type": "markdown",
      "source": [
        "## MAKE SURE TO RUN THE BELOW SNIPPET ONLY ONE TIME "
      ],
      "metadata": {
        "id": "mL0yRk0qh90_"
      }
    },
    {
      "cell_type": "code",
      "source": [
        "# make sure to run this only one time\n",
        "\n",
        "Airbnb_df = pd.DataFrame({'Links':[''], 'Title':[''], 'Price':[''], 'Discription':[''],  'Offering':['']})\n",
        "\n",
        "while True:\n",
        "  posting = (soup.find_all('div', {\"class\":\"lwy0wad l1tup9az dir dir-ltr\"})[0:])\n",
        "  for post in posting:\n",
        "    try:\n",
        "        link = post.find('a', class_=\"rfexzly dir dir-ltr\").get('href')\n",
        "        title = post.find('div', {'class':\"t1jojoys dir dir-ltr\"}).text\n",
        "        discription = post.find('span', {\"class\":\"t6mzqp7 dir dir-ltr\"}).text\n",
        "        price = (post.find('div',{\"class\":\"_tt122m\"}).text).strip('₹ total')\n",
        "        offerings = post.find('span', class_=\" dir dir-ltr\").text\n",
        "        full_link = 'https://www.airbnb.co.in/'+link\n",
        "\n",
        "        Airbnb_df = Airbnb_df.append({'Links': full_link, 'Title': title, 'Price':price , 'Discription':discription,  'Offering': offerings}, ignore_index=True)\n",
        "    except:\n",
        "        pass\n",
        "\n",
        "\n",
        "\n",
        "\n",
        "  next_page = soup.find('a', {\"aria-label\":\"Next\"}).get('href')\n",
        "  nxt_pge_full = 'https://www.airbnb.co.in'+next_page\n",
        "  nxt_pge_full\n",
        "  '''https://www.airbnb.co.in/s/Manali--Himachal-Pradesh/homes?adults=2&place_id=ChIJP9A_FgiHBDkRzXZQvg6oKYE&checkin=2023-01-24&checkout=2023-01-31&tab_id=home_tab&refinement_paths%5B%5D=%2Fhomes&query=Manali%2C%20Himachal%20Pradesh&flexible_trip_lengths%5B%5D=one_week&price_filter_input_type=0&price_filter_num_nights=7&federated_search_session_id=98749d54-1eb0-48c6-bcab-f25e375f86da&search_type=unknown&pagination_search=true&cursor=eyJzZWN0aW9uX29mZnNldCI6MywiaXRlbXNfb2Zmc2V0IjoxOCwidmVyc2lvbiI6MX0%3D'''\n",
        "\n",
        "\n",
        "  url = nxt_pge_full\n",
        "  page = requests.get(url)\n",
        "  soup = BeautifulSoup(page.text, 'lxml')\n",
        "\n"
      ],
      "metadata": {
        "id": "PZX4rPqSdgfg"
      },
      "execution_count": null,
      "outputs": []
    },
    {
      "cell_type": "code",
      "source": [
        "#@title Default title text\n",
        "Airbnb_df = pd.DataFrame({'Links':[''], 'Title':[''], 'Price':[''], 'Discription':[''],  'Offering':['']})\n",
        "\n",
        "posting = (soup.find_all('div', {\"class\":\"lwy0wad l1tup9az dir dir-ltr\"})[0:])\n",
        "for post in posting:\n",
        "    try:\n",
        "        link = post.find('a', class_=\"rfexzly dir dir-ltr\").get('href')\n",
        "        title = post.find('div', {'class':\"t1jojoys dir dir-ltr\"}).text\n",
        "        discription = post.find('span', {\"class\":\"t6mzqp7 dir dir-ltr\"}).text\n",
        "        price = (post.find('div',{\"class\":\"_tt122m\"}).text).strip('₹ total')\n",
        "        offerings = post.find('span', class_=\" dir dir-ltr\").text\n",
        "        full_link = 'https://www.airbnb.co.in/'+link\n",
        "\n",
        "        Airbnb_df = Airbnb_df.append({'Links': full_link, 'Title': title, 'Price':price , 'Discription':discription,  'Offering': offerings}, ignore_index=True)\n",
        "    except:\n",
        "        pass\n",
        "bnb_df = Airbnb_df\n",
        "    \n"
      ],
      "metadata": {
        "id": "Vn2upGC_Zt-W"
      },
      "execution_count": null,
      "outputs": []
    },
    {
      "cell_type": "code",
      "source": [
        "Airbnb_df"
      ],
      "metadata": {
        "id": "g_15bJ2gkBaa"
      },
      "execution_count": null,
      "outputs": []
    },
    {
      "cell_type": "markdown",
      "source": [
        "## junk snippets"
      ],
      "metadata": {
        "id": "EOyE1uIzZ3kX"
      }
    },
    {
      "cell_type": "code",
      "source": [
        "# soup.find('a', class_=\"bn2bl2p dir dir-ltr\").get('href')\n",
        "# soup.find('a', class_=\"rfexzly dir dir-ltr\").get('aria-label')\n",
        "\n",
        "# # # posting.find('div', {'class':\"t1jojoys dir dir-ltr\"}).text\n",
        "\n",
        "# # posting.find('div', 'span', {'class':\"a8jt5op dir dir-ltr\"})\n",
        "\n",
        "# posting.find('span', {\"class\":\"t6mzqp7 dir dir-ltr\"}).text\n",
        "\n",
        "# (soup.find('div',{\"class\":\"_tt122m\"}).text).strip('₹ total')\n",
        "\n",
        "# # soup.find('div', 'span', class_=\" dir dir-ltr\")\n",
        "\n",
        "# posting.find('span', class_=\" dir dir-ltr\").text"
      ],
      "metadata": {
        "id": "59u7QD01eMwz"
      },
      "execution_count": null,
      "outputs": []
    },
    {
      "cell_type": "code",
      "source": [
        "posting"
      ],
      "metadata": {
        "id": "BehvrKqXfDkA"
      },
      "execution_count": null,
      "outputs": []
    },
    {
      "cell_type": "code",
      "source": [],
      "metadata": {
        "id": "0ki3ngJ1fxXy"
      },
      "execution_count": null,
      "outputs": []
    },
    {
      "cell_type": "code",
      "source": [],
      "metadata": {
        "id": "LF74KQ-miLt2"
      },
      "execution_count": null,
      "outputs": []
    },
    {
      "cell_type": "code",
      "source": [],
      "metadata": {
        "id": "FEWwiedU3aYn"
      },
      "execution_count": null,
      "outputs": []
    }
  ]
}